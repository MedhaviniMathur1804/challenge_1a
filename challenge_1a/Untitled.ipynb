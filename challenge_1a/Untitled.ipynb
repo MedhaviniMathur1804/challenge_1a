{
 "cells": [
  {
   "cell_type": "code",
   "execution_count": 1,
   "id": "4bc2c299-bf2a-42b3-965a-0445ba901508",
   "metadata": {},
   "outputs": [
    {
     "name": "stdout",
     "output_type": "stream",
     "text": [
      "Files: ['.ipynb_checkpoints', 'Dockerfile', 'expected', 'input', 'main.py', 'output', 'pdf_json_outputs.zip', 'README.md', 'requirements.txt', 'Untitled.ipynb']\n"
     ]
    }
   ],
   "source": [
    "import os\n",
    "os.chdir(r\"C:\\Users\\niksh\\Downloads\\pdf_outline_submission_ready\\pdf_outline_extractor_dual\")\n",
    "print(\"Files:\", os.listdir())\n"
   ]
  },
  {
   "cell_type": "code",
   "execution_count": 2,
   "id": "6046a7e5-05a5-4611-b553-51a15f2ef3a8",
   "metadata": {},
   "outputs": [],
   "source": [
    "!python main.py\n"
   ]
  },
  {
   "cell_type": "code",
   "execution_count": 3,
   "id": "95550a28-9a93-485c-bc62-4cb122235cfa",
   "metadata": {},
   "outputs": [
    {
     "name": "stdout",
     "output_type": "stream",
     "text": [
      "📁 input/: ['file01.pdf', 'file02.pdf', 'file03.pdf', 'file04.pdf', 'file05.pdf']\n"
     ]
    }
   ],
   "source": [
    "import os\n",
    "print(\"📁 input/:\", os.listdir(\"input\"))\n"
   ]
  },
  {
   "cell_type": "code",
   "execution_count": 4,
   "id": "87d9085d-8d11-4161-bd1b-796852794ca4",
   "metadata": {},
   "outputs": [
    {
     "name": "stderr",
     "output_type": "stream",
     "text": [
      "C:\\Users\\niksh\\AppData\\Local\\Programs\\Python\\Python311\\Lib\\site-packages\\sklearn\\cluster\\_kmeans.py:870: FutureWarning: The default value of `n_init` will change from 10 to 'auto' in 1.4. Set the value of `n_init` explicitly to suppress the warning\n",
      "  warnings.warn(\n",
      "C:\\Users\\niksh\\AppData\\Local\\Programs\\Python\\Python311\\Lib\\site-packages\\sklearn\\cluster\\_kmeans.py:870: FutureWarning: The default value of `n_init` will change from 10 to 'auto' in 1.4. Set the value of `n_init` explicitly to suppress the warning\n",
      "  warnings.warn(\n",
      "C:\\Users\\niksh\\AppData\\Local\\Programs\\Python\\Python311\\Lib\\site-packages\\sklearn\\cluster\\_kmeans.py:870: FutureWarning: The default value of `n_init` will change from 10 to 'auto' in 1.4. Set the value of `n_init` explicitly to suppress the warning\n",
      "  warnings.warn(\n"
     ]
    }
   ],
   "source": [
    "\n",
    "\n",
    "%run main.py\n"
   ]
  },
  {
   "cell_type": "code",
   "execution_count": 5,
   "id": "d791805f-69ad-4d9d-9cc7-7a0769af876e",
   "metadata": {},
   "outputs": [
    {
     "name": "stdout",
     "output_type": "stream",
     "text": [
      "=> Extracting: file01.pdf\n",
      "=> Extracting: file02.pdf\n",
      "=> Extracting: file03.pdf\n",
      "=> Extracting: file04.pdf\n",
      "=> Extracting: file05.pdf\n"
     ]
    }
   ],
   "source": [
    "for file in os.listdir(\"input\"):\n",
    "    print(f\"=> Extracting: {file}\")  "
   ]
  },
  {
   "cell_type": "code",
   "execution_count": 6,
   "id": "10e66a71-506b-4f3e-a622-cab207873e37",
   "metadata": {},
   "outputs": [
    {
     "name": "stdout",
     "output_type": "stream",
     "text": [
      "✅ Saved: output\\file01.json\n"
     ]
    },
    {
     "name": "stderr",
     "output_type": "stream",
     "text": [
      "C:\\Users\\niksh\\AppData\\Local\\Programs\\Python\\Python311\\Lib\\site-packages\\sklearn\\cluster\\_kmeans.py:870: FutureWarning: The default value of `n_init` will change from 10 to 'auto' in 1.4. Set the value of `n_init` explicitly to suppress the warning\n",
      "  warnings.warn(\n",
      "C:\\Users\\niksh\\AppData\\Local\\Programs\\Python\\Python311\\Lib\\site-packages\\sklearn\\cluster\\_kmeans.py:870: FutureWarning: The default value of `n_init` will change from 10 to 'auto' in 1.4. Set the value of `n_init` explicitly to suppress the warning\n",
      "  warnings.warn(\n"
     ]
    },
    {
     "name": "stdout",
     "output_type": "stream",
     "text": [
      "✅ Saved: output\\file02.json\n"
     ]
    },
    {
     "name": "stderr",
     "output_type": "stream",
     "text": [
      "C:\\Users\\niksh\\AppData\\Local\\Programs\\Python\\Python311\\Lib\\site-packages\\sklearn\\cluster\\_kmeans.py:870: FutureWarning: The default value of `n_init` will change from 10 to 'auto' in 1.4. Set the value of `n_init` explicitly to suppress the warning\n",
      "  warnings.warn(\n"
     ]
    },
    {
     "name": "stdout",
     "output_type": "stream",
     "text": [
      "✅ Saved: output\\file03.json\n"
     ]
    },
    {
     "name": "stderr",
     "output_type": "stream",
     "text": [
      "C:\\Users\\niksh\\AppData\\Local\\Programs\\Python\\Python311\\Lib\\site-packages\\sklearn\\cluster\\_kmeans.py:870: FutureWarning: The default value of `n_init` will change from 10 to 'auto' in 1.4. Set the value of `n_init` explicitly to suppress the warning\n",
      "  warnings.warn(\n",
      "C:\\Users\\niksh\\AppData\\Local\\Programs\\Python\\Python311\\Lib\\site-packages\\sklearn\\cluster\\_kmeans.py:870: FutureWarning: The default value of `n_init` will change from 10 to 'auto' in 1.4. Set the value of `n_init` explicitly to suppress the warning\n",
      "  warnings.warn(\n"
     ]
    },
    {
     "name": "stdout",
     "output_type": "stream",
     "text": [
      "✅ Saved: output\\file04.json\n",
      "✅ Saved: output\\file05.json\n"
     ]
    }
   ],
   "source": [
    "import os\n",
    "import json\n",
    "import fitz  # PyMuPDF\n",
    "from sklearn.cluster import KMeans\n",
    "import pandas as pd\n",
    "\n",
    "input_dir = \"input\"\n",
    "output_dir = \"output\"\n",
    "os.makedirs(input_dir, exist_ok=True)\n",
    "os.makedirs(output_dir, exist_ok=True)\n",
    "\n",
    "def extract_outline_from_pdf(pdf_path):\n",
    "    doc = fitz.open(pdf_path)\n",
    "    blocks_data = []\n",
    "\n",
    "    for page_num, page in enumerate(doc, start=1):\n",
    "        blocks = page.get_text(\"dict\")[\"blocks\"]\n",
    "        for block in blocks:\n",
    "            if \"lines\" in block:\n",
    "                for line in block[\"lines\"]:\n",
    "                    for span in line[\"spans\"]:\n",
    "                        blocks_data.append({\n",
    "                            \"text\": span[\"text\"].strip(),\n",
    "                            \"size\": round(span[\"size\"], 2),\n",
    "                            \"font\": span[\"font\"],\n",
    "                            \"flags\": span[\"flags\"],\n",
    "                            \"page\": page_num,\n",
    "                            \"y\": span[\"origin\"][1]\n",
    "                        })\n",
    "\n",
    "    blocks_df = pd.DataFrame(blocks_data)\n",
    "    blocks_df = blocks_df[blocks_df[\"text\"].str.len() > 3].reset_index(drop=True)\n",
    "\n",
    "    font_sizes = blocks_df[[\"size\"]].values\n",
    "    n_clusters = min(len(set(blocks_df[\"size\"])), 4)\n",
    "    kmeans = KMeans(n_clusters=n_clusters, random_state=0).fit(font_sizes)\n",
    "    blocks_df[\"cluster\"] = kmeans.labels_\n",
    "\n",
    "    cluster_sizes = blocks_df.groupby(\"cluster\")[\"size\"].mean().sort_values(ascending=False)\n",
    "    level_map = {cid: f\"H{idx+1}\" for idx, cid in enumerate(cluster_sizes.index)}\n",
    "    blocks_df[\"level\"] = blocks_df[\"cluster\"].map(level_map)\n",
    "\n",
    "    page1_blocks = blocks_df[blocks_df[\"page\"] == 1]\n",
    "    top_blocks = page1_blocks.sort_values(by=[\"size\", \"y\"], ascending=[False, True])\n",
    "    title = top_blocks.iloc[0][\"text\"] if not top_blocks.empty else \"Untitled Document\"\n",
    "\n",
    "    outline = []\n",
    "    seen = set()\n",
    "    for _, row in blocks_df.iterrows():\n",
    "        key = (row[\"text\"], row[\"level\"], row[\"page\"])\n",
    "        if key not in seen:\n",
    "            seen.add(key)\n",
    "            outline.append({\n",
    "                \"level\": row[\"level\"],\n",
    "                \"text\": row[\"text\"],\n",
    "                \"page\": row[\"page\"]\n",
    "            })\n",
    "\n",
    "    return {\n",
    "        \"title\": title,\n",
    "        \"outline\": outline\n",
    "    }\n",
    "\n",
    "# Run for all PDFs\n",
    "for file in os.listdir(input_dir):\n",
    "    if file.endswith(\".pdf\"):\n",
    "        pdf_path = os.path.join(input_dir, file)\n",
    "        json_path = os.path.join(output_dir, file.replace(\".pdf\", \".json\"))\n",
    "        result = extract_outline_from_pdf(pdf_path)\n",
    "        with open(json_path, \"w\", encoding=\"utf-8\") as f:\n",
    "            json.dump(result, f, indent=2)\n",
    "        print(f\"✅ Saved: {json_path}\")\n"
   ]
  },
  {
   "cell_type": "code",
   "execution_count": 7,
   "id": "0a9d7ce4-4985-4262-942f-ec4ba3abb749",
   "metadata": {},
   "outputs": [],
   "source": [
    "output_dir = \"output\"\n"
   ]
  },
  {
   "cell_type": "code",
   "execution_count": 8,
   "id": "900715be-7cf7-4c7e-83f6-0cde73b10a5e",
   "metadata": {},
   "outputs": [
    {
     "name": "stdout",
     "output_type": "stream",
     "text": [
      "📁 JSON files found: ['file01.json', 'file02.json', 'file03.json', 'file04.json', 'file05.json']\n"
     ]
    }
   ],
   "source": [
    "import os\n",
    "\n",
    "output_dir = r\"C:\\Users\\niksh\\Downloads\\pdf_outline_submission_ready\\pdf_outline_extractor_dual\\output\"\n",
    "print(\"📁 JSON files found:\", os.listdir(output_dir))\n"
   ]
  },
  {
   "cell_type": "code",
   "execution_count": 9,
   "id": "bc04a0df-f2eb-47bb-8e2d-c71cbd4d57ed",
   "metadata": {},
   "outputs": [
    {
     "name": "stdout",
     "output_type": "stream",
     "text": [
      "✅ ZIP created successfully at: C:\\Users\\niksh\\Downloads\\pdf_json_outputs.zip\n"
     ]
    }
   ],
   "source": [
    "import zipfile\n",
    "import os\n",
    "\n",
    "output_dir = r\"C:\\Users\\niksh\\Downloads\\pdf_outline_submission_ready\\pdf_outline_extractor_dual\\output\"\n",
    "zip_path = r\"C:\\Users\\niksh\\Downloads\\pdf_json_outputs.zip\"\n",
    "\n",
    "try:\n",
    "    with zipfile.ZipFile(zip_path, \"w\") as zipf:\n",
    "        for file in os.listdir(output_dir):\n",
    "            if file.endswith(\".json\"):\n",
    "                file_path = os.path.join(output_dir, file)\n",
    "                zipf.write(file_path, arcname=file)\n",
    "\n",
    "    print(\"✅ ZIP created successfully at:\", zip_path)\n",
    "except Exception as e:\n",
    "    print(\"❌ Error:\", e)\n"
   ]
  },
  {
   "cell_type": "code",
   "execution_count": 10,
   "id": "242fa81a-12d7-4e76-b492-5f88f46ae8ca",
   "metadata": {},
   "outputs": [
    {
     "name": "stdout",
     "output_type": "stream",
     "text": [
      "📂 Current working directory: C:\\Users\\niksh\\Downloads\\pdf_outline_submission_ready\\pdf_outline_extractor_dual\n",
      "📁 All files and folders: ['.ipynb_checkpoints', 'Dockerfile', 'expected', 'input', 'main.py', 'output', 'pdf_json_outputs.zip', 'README.md', 'requirements.txt', 'Untitled.ipynb']\n"
     ]
    }
   ],
   "source": [
    "import os\n",
    "print(\"📂 Current working directory:\", os.getcwd())\n",
    "print(\"📁 All files and folders:\", os.listdir())\n"
   ]
  },
  {
   "cell_type": "code",
   "execution_count": 11,
   "id": "e59b6fa6-b09d-48ef-8900-fa25867ae44e",
   "metadata": {},
   "outputs": [],
   "source": [
    "!python main.py\n"
   ]
  },
  {
   "cell_type": "code",
   "execution_count": 12,
   "id": "8b2902e0-8325-48a5-a61c-9a3f153dab4f",
   "metadata": {},
   "outputs": [
    {
     "name": "stdout",
     "output_type": "stream",
     "text": [
      "📁 output/: ['file01.json', 'file02.json', 'file03.json', 'file04.json', 'file05.json']\n"
     ]
    }
   ],
   "source": [
    "import os\n",
    "print(\"📁 output/:\", os.listdir(\"output\"))\n"
   ]
  },
  {
   "cell_type": "code",
   "execution_count": 13,
   "id": "d11c27c9-e587-48fb-b7a3-e7002829970b",
   "metadata": {},
   "outputs": [
    {
     "name": "stdout",
     "output_type": "stream",
     "text": [
      "✅ Zipped at: pdf_json_outputs.zip\n"
     ]
    }
   ],
   "source": [
    "import zipfile\n",
    "import os\n",
    "\n",
    "output_dir = \"output\"  # folder containing JSON files\n",
    "zip_path = \"pdf_json_outputs.zip\"\n",
    "\n",
    "with zipfile.ZipFile(zip_path, \"w\") as zipf:\n",
    "    for file in os.listdir(output_dir):\n",
    "        if file.endswith(\".json\"):\n",
    "            zipf.write(os.path.join(output_dir, file), arcname=file)\n",
    "\n",
    "print(\"✅ Zipped at:\", zip_path)\n"
   ]
  },
  {
   "cell_type": "code",
   "execution_count": null,
   "id": "35c5668a-f80b-4058-9c52-ec6bda07da15",
   "metadata": {},
   "outputs": [],
   "source": []
  }
 ],
 "metadata": {
  "kernelspec": {
   "display_name": "Python 3 (ipykernel)",
   "language": "python",
   "name": "python3"
  },
  "language_info": {
   "codemirror_mode": {
    "name": "ipython",
    "version": 3
   },
   "file_extension": ".py",
   "mimetype": "text/x-python",
   "name": "python",
   "nbconvert_exporter": "python",
   "pygments_lexer": "ipython3",
   "version": "3.11.9"
  }
 },
 "nbformat": 4,
 "nbformat_minor": 5
}
